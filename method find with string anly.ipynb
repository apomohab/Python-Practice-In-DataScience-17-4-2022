{
 "cells": [
  {
   "cell_type": "code",
   "execution_count": 2,
   "id": "81d38907",
   "metadata": {},
   "outputs": [],
   "source": [
    "# - 6 - 4 - 2022"
   ]
  },
  {
   "cell_type": "code",
   "execution_count": 4,
   "id": "f78d7a3b",
   "metadata": {},
   "outputs": [
    {
     "data": {
      "text/html": [
       "<div>\n",
       "<style scoped>\n",
       "    .dataframe tbody tr th:only-of-type {\n",
       "        vertical-align: middle;\n",
       "    }\n",
       "\n",
       "    .dataframe tbody tr th {\n",
       "        vertical-align: top;\n",
       "    }\n",
       "\n",
       "    .dataframe thead th {\n",
       "        text-align: right;\n",
       "    }\n",
       "</style>\n",
       "<table border=\"1\" class=\"dataframe\">\n",
       "  <thead>\n",
       "    <tr style=\"text-align: right;\">\n",
       "      <th></th>\n",
       "      <th>Country</th>\n",
       "      <th>Age</th>\n",
       "      <th>Salary</th>\n",
       "      <th>Purchased</th>\n",
       "    </tr>\n",
       "  </thead>\n",
       "  <tbody>\n",
       "    <tr>\n",
       "      <th>0</th>\n",
       "      <td>France</td>\n",
       "      <td>44.0</td>\n",
       "      <td>72000.0</td>\n",
       "      <td>No</td>\n",
       "    </tr>\n",
       "    <tr>\n",
       "      <th>1</th>\n",
       "      <td>Spain</td>\n",
       "      <td>27.0</td>\n",
       "      <td>48000.0</td>\n",
       "      <td>Yes</td>\n",
       "    </tr>\n",
       "    <tr>\n",
       "      <th>2</th>\n",
       "      <td>Germany</td>\n",
       "      <td>30.0</td>\n",
       "      <td>54000.0</td>\n",
       "      <td>No</td>\n",
       "    </tr>\n",
       "    <tr>\n",
       "      <th>3</th>\n",
       "      <td>Spain</td>\n",
       "      <td>38.0</td>\n",
       "      <td>61000.0</td>\n",
       "      <td>No</td>\n",
       "    </tr>\n",
       "    <tr>\n",
       "      <th>4</th>\n",
       "      <td>Germany</td>\n",
       "      <td>40.0</td>\n",
       "      <td>NaN</td>\n",
       "      <td>Yes</td>\n",
       "    </tr>\n",
       "  </tbody>\n",
       "</table>\n",
       "</div>"
      ],
      "text/plain": [
       "   Country   Age   Salary Purchased\n",
       "0   France  44.0  72000.0        No\n",
       "1    Spain  27.0  48000.0       Yes\n",
       "2  Germany  30.0  54000.0        No\n",
       "3    Spain  38.0  61000.0        No\n",
       "4  Germany  40.0      NaN       Yes"
      ]
     },
     "execution_count": 4,
     "metadata": {},
     "output_type": "execute_result"
    }
   ],
   "source": [
    "import pandas as pd\n",
    "\n",
    "df = pd.read_csv(\"Data_for_Missing_Values.csv\")\n",
    "\n",
    "df.head(5)"
   ]
  },
  {
   "cell_type": "markdown",
   "id": "78d383c6",
   "metadata": {},
   "source": [
    "# Python String find() method"
   ]
  },
  {
   "cell_type": "markdown",
   "id": "4526ae32",
   "metadata": {},
   "source": [
    "تُرجع الدالة  فهرس النص من السلسلة الرئيسية إذا تم العثور عليها في سلسلة معينة. \n",
    "\n",
    "إذا لم يتم العثور عليه فإنه يعيد -1."
   ]
  },
  {
   "cell_type": "code",
   "execution_count": null,
   "id": "0eb5979d",
   "metadata": {},
   "outputs": [],
   "source": [
    "# apply with out csv file."
   ]
  },
  {
   "cell_type": "code",
   "execution_count": 8,
   "id": "2145c77c",
   "metadata": {},
   "outputs": [
    {
     "name": "stdout",
     "output_type": "stream",
     "text": [
      "Your search about word is ' data' i found at index 19\n"
     ]
    }
   ],
   "source": [
    "# Select word from text\n",
    "\n",
    "words = \"I learn Python For data science\"\n",
    "\n",
    "results = words.find(\"data\")\n",
    "\n",
    "print(\"Your search about word is ' data' i found at index\", results)"
   ]
  },
  {
   "cell_type": "code",
   "execution_count": 13,
   "id": "15cf959e",
   "metadata": {},
   "outputs": [
    {
     "name": "stdout",
     "output_type": "stream",
     "text": [
      "Try again please\n"
     ]
    }
   ],
   "source": [
    "# used condition \n",
    "\n",
    "words = \"I learn Python For data science \"\n",
    "\n",
    "getword = \"hello\"\n",
    "\n",
    "if (getword in words):\n",
    "    \n",
    "    print(\" i get the word\")\n",
    "else:\n",
    "    \n",
    "    print(\"Try again please\")\n"
   ]
  },
  {
   "cell_type": "code",
   "execution_count": 14,
   "id": "82654453",
   "metadata": {},
   "outputs": [],
   "source": [
    "# Apply in csv data."
   ]
  }
 ],
 "metadata": {
  "kernelspec": {
   "display_name": "Python 3.8.5 64-bit ('pandas_plyground': conda)",
   "language": "python",
   "name": "python38564bitpandasplygroundcondaaa923595e6d148cd9a5167da44284266"
  },
  "language_info": {
   "codemirror_mode": {
    "name": "ipython",
    "version": 3
   },
   "file_extension": ".py",
   "mimetype": "text/x-python",
   "name": "python",
   "nbconvert_exporter": "python",
   "pygments_lexer": "ipython3",
   "version": "3.8.12"
  }
 },
 "nbformat": 4,
 "nbformat_minor": 5
}
